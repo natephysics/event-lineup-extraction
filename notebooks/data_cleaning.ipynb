{
 "cells": [
  {
   "cell_type": "code",
   "execution_count": 1,
   "metadata": {},
   "outputs": [],
   "source": [
    "import pandas as pd\n",
    "import csv\n",
    "import re"
   ]
  },
  {
   "cell_type": "markdown",
   "metadata": {},
   "source": [
    "### Import data"
   ]
  },
  {
   "cell_type": "code",
   "execution_count": 2,
   "metadata": {},
   "outputs": [],
   "source": [
    "# import the event titles and artists from the text file\n",
    "df = pd.read_csv(\"../data/event_titles.txt\", sep='\\t', dtype = str, names=['event_names']) \n",
    "artists = set(line.strip() for line in open('../data/artists.txt', encoding='UTF-8'))\n",
    "\n",
    "# import the labels that were hand generated\n",
    "labels = pd.read_csv(\"../data/binary_labels.txt\", sep='\\t', dtype = str, names=['labels']) "
   ]
  },
  {
   "cell_type": "markdown",
   "metadata": {},
   "source": [
    "### Filter the data\n",
    "\n",
    "The data is not well posed for training. We'll apply a filter to clean up the strings."
   ]
  },
  {
   "cell_type": "code",
   "execution_count": 3,
   "metadata": {},
   "outputs": [
    {
     "data": {
      "text/html": [
       "<div>\n",
       "<style scoped>\n",
       "    .dataframe tbody tr th:only-of-type {\n",
       "        vertical-align: middle;\n",
       "    }\n",
       "\n",
       "    .dataframe tbody tr th {\n",
       "        vertical-align: top;\n",
       "    }\n",
       "\n",
       "    .dataframe thead th {\n",
       "        text-align: right;\n",
       "    }\n",
       "</style>\n",
       "<table border=\"1\" class=\"dataframe\">\n",
       "  <thead>\n",
       "    <tr style=\"text-align: right;\">\n",
       "      <th></th>\n",
       "      <th>event_names</th>\n",
       "    </tr>\n",
       "  </thead>\n",
       "  <tbody>\n",
       "    <tr>\n",
       "      <th>0</th>\n",
       "      <td>Jamey Johnson</td>\n",
       "    </tr>\n",
       "    <tr>\n",
       "      <th>1</th>\n",
       "      <td>Alex the Astronaut &amp; Stella Donnelly - Adelaid...</td>\n",
       "    </tr>\n",
       "    <tr>\n",
       "      <th>2</th>\n",
       "      <td>Bad Bunny - La Nueva Religion Tour</td>\n",
       "    </tr>\n",
       "    <tr>\n",
       "      <th>3</th>\n",
       "      <td>Julien Baker at The Burl</td>\n",
       "    </tr>\n",
       "    <tr>\n",
       "      <th>4</th>\n",
       "      <td>SWING pres. Sam Paganini &amp; Zøe</td>\n",
       "    </tr>\n",
       "  </tbody>\n",
       "</table>\n",
       "</div>"
      ],
      "text/plain": [
       "                                         event_names\n",
       "0                                      Jamey Johnson\n",
       "1  Alex the Astronaut & Stella Donnelly - Adelaid...\n",
       "2                 Bad Bunny - La Nueva Religion Tour\n",
       "3                           Julien Baker at The Burl\n",
       "4                     SWING pres. Sam Paganini & Zøe"
      ]
     },
     "execution_count": 3,
     "metadata": {},
     "output_type": "execute_result"
    }
   ],
   "source": [
    "df.head()"
   ]
  },
  {
   "cell_type": "code",
   "execution_count": 4,
   "metadata": {},
   "outputs": [],
   "source": [
    "# since I haven't manually labeled all of the data I can't use all the data for training\n",
    "num_of_labels = len(labels) - 1\n",
    "\n",
    "def text_clean(x):\n",
    "    # lowercase the text\n",
    "    x = x.lower()\n",
    "    # adding spaces before punctuation that occurs at the end of a word\n",
    "    x = re.sub(r'\\b[!,.~:]\\B', ' \\g<0>', x)\n",
    "    # spaces around some special characters\n",
    "    x = re.sub(r'[\\[\\]~()/<>-]', ' \\g<0> ', x)\n",
    "    # removed double spaces from string\n",
    "    x = re.sub(r'\\s+', ' ', x)\n",
    "    # removed spaces at the beginning of the string\n",
    "    x = x.strip()\n",
    "\n",
    "\n",
    "    return x\n",
    "\n",
    "\n",
    "# Filter the event names and save them to a new file\n",
    "text = df['event_names'].apply(lambda x: text_clean(x)).loc[0:num_of_labels]\n",
    "df['event_names'].apply(lambda x: text_clean(x)).to_csv('../data/event_titles_clean.csv', sep='\\t', quoting=csv.QUOTE_NONE, index=False)"
   ]
  },
  {
   "cell_type": "markdown",
   "metadata": {},
   "source": [
    "### Combine to create the training data"
   ]
  },
  {
   "cell_type": "code",
   "execution_count": 5,
   "metadata": {},
   "outputs": [
    {
     "data": {
      "text/html": [
       "<div>\n",
       "<style scoped>\n",
       "    .dataframe tbody tr th:only-of-type {\n",
       "        vertical-align: middle;\n",
       "    }\n",
       "\n",
       "    .dataframe tbody tr th {\n",
       "        vertical-align: top;\n",
       "    }\n",
       "\n",
       "    .dataframe thead th {\n",
       "        text-align: right;\n",
       "    }\n",
       "</style>\n",
       "<table border=\"1\" class=\"dataframe\">\n",
       "  <thead>\n",
       "    <tr style=\"text-align: right;\">\n",
       "      <th></th>\n",
       "      <th>event_names</th>\n",
       "      <th>labels</th>\n",
       "    </tr>\n",
       "  </thead>\n",
       "  <tbody>\n",
       "    <tr>\n",
       "      <th>0</th>\n",
       "      <td>jamey johnson</td>\n",
       "      <td>B-per I-per</td>\n",
       "    </tr>\n",
       "    <tr>\n",
       "      <th>1</th>\n",
       "      <td>alex the astronaut &amp; stella donnelly - adelaid...</td>\n",
       "      <td>B-per I-per I-per O B-per I-per O O O O</td>\n",
       "    </tr>\n",
       "    <tr>\n",
       "      <th>2</th>\n",
       "      <td>bad bunny - la nueva religion tour</td>\n",
       "      <td>B-per I-per O O O O O</td>\n",
       "    </tr>\n",
       "    <tr>\n",
       "      <th>3</th>\n",
       "      <td>julien baker at the burl</td>\n",
       "      <td>B-per I-per O O O</td>\n",
       "    </tr>\n",
       "    <tr>\n",
       "      <th>4</th>\n",
       "      <td>swing pres . sam paganini &amp; zøe</td>\n",
       "      <td>O O O B-per I-per O B-per</td>\n",
       "    </tr>\n",
       "  </tbody>\n",
       "</table>\n",
       "</div>"
      ],
      "text/plain": [
       "                                         event_names  \\\n",
       "0                                      jamey johnson   \n",
       "1  alex the astronaut & stella donnelly - adelaid...   \n",
       "2                 bad bunny - la nueva religion tour   \n",
       "3                           julien baker at the burl   \n",
       "4                    swing pres . sam paganini & zøe   \n",
       "\n",
       "                                    labels  \n",
       "0                              B-per I-per  \n",
       "1  B-per I-per I-per O B-per I-per O O O O  \n",
       "2                    B-per I-per O O O O O  \n",
       "3                        B-per I-per O O O  \n",
       "4                O O O B-per I-per O B-per  "
      ]
     },
     "execution_count": 5,
     "metadata": {},
     "output_type": "execute_result"
    }
   ],
   "source": [
    "train_data = text.to_frame().join(labels)\n",
    "train_data.head()"
   ]
  },
  {
   "cell_type": "markdown",
   "metadata": {},
   "source": [
    "### Sanity check on the labeled data\n",
    "\n",
    "Since the labels are hand produced we'll run some sanity checks to verify the labels are correct.\n",
    "\n",
    "Note: the labels have been generated based on the cleaned event names. Changing the cleaning will result in different labels. "
   ]
  },
  {
   "cell_type": "code",
   "execution_count": 6,
   "metadata": {},
   "outputs": [
    {
     "data": {
      "text/html": [
       "<div>\n",
       "<style scoped>\n",
       "    .dataframe tbody tr th:only-of-type {\n",
       "        vertical-align: middle;\n",
       "    }\n",
       "\n",
       "    .dataframe tbody tr th {\n",
       "        vertical-align: top;\n",
       "    }\n",
       "\n",
       "    .dataframe thead th {\n",
       "        text-align: right;\n",
       "    }\n",
       "</style>\n",
       "<table border=\"1\" class=\"dataframe\">\n",
       "  <thead>\n",
       "    <tr style=\"text-align: right;\">\n",
       "      <th></th>\n",
       "      <th>event_names</th>\n",
       "      <th>labels</th>\n",
       "    </tr>\n",
       "  </thead>\n",
       "  <tbody>\n",
       "  </tbody>\n",
       "</table>\n",
       "</div>"
      ],
      "text/plain": [
       "Empty DataFrame\n",
       "Columns: [event_names, labels]\n",
       "Index: []"
      ]
     },
     "execution_count": 6,
     "metadata": {},
     "output_type": "execute_result"
    }
   ],
   "source": [
    "# If any labels have a different number of spaces than the text, we want to identify the error and fix it.\n",
    "\n",
    "train_data[train_data.apply(lambda row: row.labels.count(' ') != row.event_names.count(' '), axis=1)]"
   ]
  },
  {
   "cell_type": "code",
   "execution_count": 7,
   "metadata": {},
   "outputs": [
    {
     "data": {
      "text/html": [
       "<div>\n",
       "<style scoped>\n",
       "    .dataframe tbody tr th:only-of-type {\n",
       "        vertical-align: middle;\n",
       "    }\n",
       "\n",
       "    .dataframe tbody tr th {\n",
       "        vertical-align: top;\n",
       "    }\n",
       "\n",
       "    .dataframe thead th {\n",
       "        text-align: right;\n",
       "    }\n",
       "</style>\n",
       "<table border=\"1\" class=\"dataframe\">\n",
       "  <thead>\n",
       "    <tr style=\"text-align: right;\">\n",
       "      <th></th>\n",
       "      <th>event_names</th>\n",
       "      <th>labels</th>\n",
       "      <th>artists</th>\n",
       "    </tr>\n",
       "  </thead>\n",
       "  <tbody>\n",
       "    <tr>\n",
       "      <th>0</th>\n",
       "      <td>jamey johnson</td>\n",
       "      <td>B-per I-per</td>\n",
       "      <td>[jamey johnson]</td>\n",
       "    </tr>\n",
       "    <tr>\n",
       "      <th>1</th>\n",
       "      <td>alex the astronaut &amp; stella donnelly - adelaid...</td>\n",
       "      <td>B-per I-per I-per O B-per I-per O O O O</td>\n",
       "      <td>[alex the astronaut, stella donnelly]</td>\n",
       "    </tr>\n",
       "    <tr>\n",
       "      <th>2</th>\n",
       "      <td>bad bunny - la nueva religion tour</td>\n",
       "      <td>B-per I-per O O O O O</td>\n",
       "      <td>[bad bunny]</td>\n",
       "    </tr>\n",
       "    <tr>\n",
       "      <th>3</th>\n",
       "      <td>julien baker at the burl</td>\n",
       "      <td>B-per I-per O O O</td>\n",
       "      <td>[julien baker]</td>\n",
       "    </tr>\n",
       "    <tr>\n",
       "      <th>4</th>\n",
       "      <td>swing pres . sam paganini &amp; zøe</td>\n",
       "      <td>O O O B-per I-per O B-per</td>\n",
       "      <td>[sam paganini, zøe]</td>\n",
       "    </tr>\n",
       "    <tr>\n",
       "      <th>...</th>\n",
       "      <td>...</td>\n",
       "      <td>...</td>\n",
       "      <td>...</td>\n",
       "    </tr>\n",
       "    <tr>\n",
       "      <th>645</th>\n",
       "      <td>frank turner &amp; the sleeping souls</td>\n",
       "      <td>B-per I-per I-per I-per I-per I-per</td>\n",
       "      <td>[frank turner &amp; the sleeping souls]</td>\n",
       "    </tr>\n",
       "    <tr>\n",
       "      <th>646</th>\n",
       "      <td>thursday sessions : screening rivers and tides...</td>\n",
       "      <td>O O O O O O O O B-per I-per</td>\n",
       "      <td>[andy goldsworthy]</td>\n",
       "    </tr>\n",
       "    <tr>\n",
       "      <th>647</th>\n",
       "      <td>sword of the stranger [ 15 ]</td>\n",
       "      <td>B-per I-per I-per I-per O O O</td>\n",
       "      <td>[sword of the stranger]</td>\n",
       "    </tr>\n",
       "    <tr>\n",
       "      <th>648</th>\n",
       "      <td>metallica convention w / orion</td>\n",
       "      <td>B-per O O O B-per</td>\n",
       "      <td>[metallica, orion]</td>\n",
       "    </tr>\n",
       "    <tr>\n",
       "      <th>649</th>\n",
       "      <td>dweezil zappa</td>\n",
       "      <td>B-per I-per</td>\n",
       "      <td>[dweezil zappa]</td>\n",
       "    </tr>\n",
       "  </tbody>\n",
       "</table>\n",
       "<p>650 rows × 3 columns</p>\n",
       "</div>"
      ],
      "text/plain": [
       "                                           event_names  \\\n",
       "0                                        jamey johnson   \n",
       "1    alex the astronaut & stella donnelly - adelaid...   \n",
       "2                   bad bunny - la nueva religion tour   \n",
       "3                             julien baker at the burl   \n",
       "4                      swing pres . sam paganini & zøe   \n",
       "..                                                 ...   \n",
       "645                  frank turner & the sleeping souls   \n",
       "646  thursday sessions : screening rivers and tides...   \n",
       "647                       sword of the stranger [ 15 ]   \n",
       "648                     metallica convention w / orion   \n",
       "649                                      dweezil zappa   \n",
       "\n",
       "                                      labels  \\\n",
       "0                                B-per I-per   \n",
       "1    B-per I-per I-per O B-per I-per O O O O   \n",
       "2                      B-per I-per O O O O O   \n",
       "3                          B-per I-per O O O   \n",
       "4                  O O O B-per I-per O B-per   \n",
       "..                                       ...   \n",
       "645      B-per I-per I-per I-per I-per I-per   \n",
       "646              O O O O O O O O B-per I-per   \n",
       "647            B-per I-per I-per I-per O O O   \n",
       "648                        B-per O O O B-per   \n",
       "649                              B-per I-per   \n",
       "\n",
       "                                   artists  \n",
       "0                          [jamey johnson]  \n",
       "1    [alex the astronaut, stella donnelly]  \n",
       "2                              [bad bunny]  \n",
       "3                           [julien baker]  \n",
       "4                      [sam paganini, zøe]  \n",
       "..                                     ...  \n",
       "645    [frank turner & the sleeping souls]  \n",
       "646                     [andy goldsworthy]  \n",
       "647                [sword of the stranger]  \n",
       "648                     [metallica, orion]  \n",
       "649                        [dweezil zappa]  \n",
       "\n",
       "[650 rows x 3 columns]"
      ]
     },
     "execution_count": 7,
     "metadata": {},
     "output_type": "execute_result"
    }
   ],
   "source": [
    "# Verify the labels look correct\n",
    "\n",
    "def verify_labels(row):\n",
    "    \"\"\"Returns a list of artists based on the labels.\"\"\"\n",
    "    # split the string into a list of words\n",
    "    labels = row.labels.split()\n",
    "    event_names = row.event_names.split()\n",
    "\n",
    "    # list to append the artist names to\n",
    "    artists = []\n",
    "    name = []\n",
    "\n",
    "    # if the event label is a person, extract the name from \n",
    "    for label, event_name in zip(labels, event_names):\n",
    "        if label == 'B-per':\n",
    "            name = [event_name]\n",
    "        if label == 'I-per':\n",
    "            name.append(event_name)\n",
    "        if label == 'O':\n",
    "            if len(name):\n",
    "                artists.append(' '.join(name))\n",
    "                name = []\n",
    "    if len(name):\n",
    "        artists.append(' '.join(name))\n",
    "\n",
    "    return artists\n",
    "# train_data_temp = train_data.join(train_data.apply(lambda row: verify_labels(row), axis=1))\n",
    "# train_data_temp\n",
    "train_data_temp = pd.DataFrame(train_data.apply(lambda row: verify_labels(row), axis=1), columns=['artists'])\n",
    "train_data.join(train_data_temp)"
   ]
  },
  {
   "cell_type": "code",
   "execution_count": 8,
   "metadata": {},
   "outputs": [
    {
     "data": {
      "text/plain": [
       "{'B-per', 'I-per', 'O'}"
      ]
     },
     "execution_count": 8,
     "metadata": {},
     "output_type": "execute_result"
    }
   ],
   "source": [
    "# Check to see if there are some unwanted labels\n",
    "# We only expect the following labels:\n",
    "# {'B-per', 'I-per', 'O'}\n",
    "\n",
    "unique_labels = set()\n",
    "\n",
    "for label in train_data.labels.to_list():\n",
    "    for work in label.split():\n",
    "        unique_labels.add(work)\n",
    "\n",
    "unique_labels"
   ]
  },
  {
   "cell_type": "markdown",
   "metadata": {},
   "source": [
    "### Split and save the data"
   ]
  },
  {
   "cell_type": "code",
   "execution_count": 9,
   "metadata": {},
   "outputs": [],
   "source": [
    "# save the data\n",
    "train_data.to_csv('../data/train_data.csv', sep='\\t', quoting=csv.QUOTE_NONE, index=False)"
   ]
  },
  {
   "cell_type": "code",
   "execution_count": null,
   "metadata": {},
   "outputs": [],
   "source": []
  }
 ],
 "metadata": {
  "kernelspec": {
   "display_name": "Python 3.8.3 ('pytorch')",
   "language": "python",
   "name": "python3"
  },
  "language_info": {
   "codemirror_mode": {
    "name": "ipython",
    "version": 3
   },
   "file_extension": ".py",
   "mimetype": "text/x-python",
   "name": "python",
   "nbconvert_exporter": "python",
   "pygments_lexer": "ipython3",
   "version": "3.8.3"
  },
  "orig_nbformat": 4,
  "vscode": {
   "interpreter": {
    "hash": "692e1b469f05e9f61c1244cbf7167153a35a5689ec0015df74b5a789b0dec380"
   }
  }
 },
 "nbformat": 4,
 "nbformat_minor": 2
}
