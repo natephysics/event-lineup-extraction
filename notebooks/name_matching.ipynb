{
 "cells": [
  {
   "cell_type": "code",
   "execution_count": 2,
   "metadata": {},
   "outputs": [
    {
     "name": "stderr",
     "output_type": "stream",
     "text": [
      "c:\\Users\\natep\\anaconda3\\envs\\pytorch\\lib\\site-packages\\numpy\\_distributor_init.py:30: UserWarning: loaded more than 1 DLL from .libs:\n",
      "c:\\Users\\natep\\anaconda3\\envs\\pytorch\\lib\\site-packages\\numpy\\.libs\\libopenblas.FB5AE2TYXYH2IJRDKGDGQ3XBKLKTF43H.gfortran-win_amd64.dll\n",
      "c:\\Users\\natep\\anaconda3\\envs\\pytorch\\lib\\site-packages\\numpy\\.libs\\libopenblas.WCDJNK7YVMPZQ2ME2ZZHJJRJ3JIKNDB7.gfortran-win_amd64.dll\n",
      "  warnings.warn(\"loaded more than 1 DLL from .libs:\"\n"
     ]
    },
    {
     "data": {
      "text/plain": [
       "True"
      ]
     },
     "execution_count": 2,
     "metadata": {},
     "output_type": "execute_result"
    }
   ],
   "source": [
    "import pandas as pd\n",
    "from fuzzywuzzy import fuzz"
   ]
  },
  {
   "cell_type": "code",
   "execution_count": 2,
   "metadata": {},
   "outputs": [],
   "source": [
    "df = pd.read_csv(\"../data/event_titles.txt\", sep='\\t', dtype = str, names=['event_names']) \n",
    "possible_labels = set(line.strip() for line in open('../data/artists.txt', encoding='UTF-8'))"
   ]
  },
  {
   "cell_type": "code",
   "execution_count": 3,
   "metadata": {},
   "outputs": [
    {
     "data": {
      "text/html": [
       "<div>\n",
       "<style scoped>\n",
       "    .dataframe tbody tr th:only-of-type {\n",
       "        vertical-align: middle;\n",
       "    }\n",
       "\n",
       "    .dataframe tbody tr th {\n",
       "        vertical-align: top;\n",
       "    }\n",
       "\n",
       "    .dataframe thead th {\n",
       "        text-align: right;\n",
       "    }\n",
       "</style>\n",
       "<table border=\"1\" class=\"dataframe\">\n",
       "  <thead>\n",
       "    <tr style=\"text-align: right;\">\n",
       "      <th></th>\n",
       "      <th>event_names</th>\n",
       "    </tr>\n",
       "  </thead>\n",
       "  <tbody>\n",
       "    <tr>\n",
       "      <th>0</th>\n",
       "      <td>Jamey Johnson</td>\n",
       "    </tr>\n",
       "    <tr>\n",
       "      <th>1</th>\n",
       "      <td>Alex the Astronaut &amp; Stella Donnelly - Adelaid...</td>\n",
       "    </tr>\n",
       "    <tr>\n",
       "      <th>2</th>\n",
       "      <td>Bad Bunny - La Nueva Religion Tour</td>\n",
       "    </tr>\n",
       "    <tr>\n",
       "      <th>3</th>\n",
       "      <td>Julien Baker at The Burl</td>\n",
       "    </tr>\n",
       "    <tr>\n",
       "      <th>4</th>\n",
       "      <td>SWING pres. Sam Paganini &amp; Zøe</td>\n",
       "    </tr>\n",
       "    <tr>\n",
       "      <th>...</th>\n",
       "      <td>...</td>\n",
       "    </tr>\n",
       "    <tr>\n",
       "      <th>1222</th>\n",
       "      <td>Clowns Celebrate Love w/ Matchmaker Sasha Silb...</td>\n",
       "    </tr>\n",
       "    <tr>\n",
       "      <th>1223</th>\n",
       "      <td>Aurora &amp; the Betrayers // Loco Club</td>\n",
       "    </tr>\n",
       "    <tr>\n",
       "      <th>1224</th>\n",
       "      <td>Desolat with Loco Dice - All Night Terrace Party</td>\n",
       "    </tr>\n",
       "    <tr>\n",
       "      <th>1225</th>\n",
       "      <td>Jeff Dunham in Ontario</td>\n",
       "    </tr>\n",
       "    <tr>\n",
       "      <th>1226</th>\n",
       "      <td>Full Moon Gathering: March 2018</td>\n",
       "    </tr>\n",
       "  </tbody>\n",
       "</table>\n",
       "<p>1227 rows × 1 columns</p>\n",
       "</div>"
      ],
      "text/plain": [
       "                                            event_names\n",
       "0                                         Jamey Johnson\n",
       "1     Alex the Astronaut & Stella Donnelly - Adelaid...\n",
       "2                    Bad Bunny - La Nueva Religion Tour\n",
       "3                              Julien Baker at The Burl\n",
       "4                        SWING pres. Sam Paganini & Zøe\n",
       "...                                                 ...\n",
       "1222  Clowns Celebrate Love w/ Matchmaker Sasha Silb...\n",
       "1223                Aurora & the Betrayers // Loco Club\n",
       "1224   Desolat with Loco Dice - All Night Terrace Party\n",
       "1225                             Jeff Dunham in Ontario\n",
       "1226                    Full Moon Gathering: March 2018\n",
       "\n",
       "[1227 rows x 1 columns]"
      ]
     },
     "execution_count": 3,
     "metadata": {},
     "output_type": "execute_result"
    }
   ],
   "source": []
  },
  {
   "cell_type": "code",
   "execution_count": 4,
   "metadata": {},
   "outputs": [],
   "source": [
    "def contains_artist(event_name: str, artist_names: set, threshold: int = 80) -> list:\n",
    "    \"\"\"\n",
    "    Checks if the event name contains the artist(s) name(s) and returns the artist(s) name if it does.\n",
    "    \"\"\"\n",
    "    names = []\n",
    "    # check to see if the event name contains the artist name\n",
    "    # if it does, add the artist name to the list\n",
    "    for artist_name in artist_names:\n",
    "        if fuzz.partial_ratio(event_name, artist_name) > threshold:\n",
    "            names.append(artist_name)\n",
    "    return names\n",
    "            "
   ]
  },
  {
   "cell_type": "code",
   "execution_count": 5,
   "metadata": {},
   "outputs": [
    {
     "data": {
      "text/plain": [
       "0                             [Jamey Johnson]\n",
       "1       [Alex the Astronaut, Stella Donnelly]\n",
       "2                                 [Bad Bunny]\n",
       "3                              [Julien Baker]\n",
       "4                              [Sam Paganini]\n",
       "                        ...                  \n",
       "1222                                       []\n",
       "1223                                       []\n",
       "1224                                       []\n",
       "1225                            [Jeff Dunham]\n",
       "1226                                       []\n",
       "Name: event_names, Length: 1227, dtype: object"
      ]
     },
     "execution_count": 5,
     "metadata": {},
     "output_type": "execute_result"
    }
   ],
   "source": [
    "df['event_names'].apply(lambda x: contains_artist(x, possible_labels))"
   ]
  },
  {
   "cell_type": "code",
   "execution_count": 6,
   "metadata": {},
   "outputs": [
    {
     "data": {
      "text/plain": [
       "45"
      ]
     },
     "execution_count": 6,
     "metadata": {},
     "output_type": "execute_result"
    }
   ],
   "source": [
    "fuzz.partial_ratio('Kiadó dupla', 'Európa Kiadó')"
   ]
  }
 ],
 "metadata": {
  "kernelspec": {
   "display_name": "Python 3.8.3 ('pytorch')",
   "language": "python",
   "name": "python3"
  },
  "language_info": {
   "codemirror_mode": {
    "name": "ipython",
    "version": 3
   },
   "file_extension": ".py",
   "mimetype": "text/x-python",
   "name": "python",
   "nbconvert_exporter": "python",
   "pygments_lexer": "ipython3",
   "version": "3.8.3"
  },
  "orig_nbformat": 4,
  "vscode": {
   "interpreter": {
    "hash": "692e1b469f05e9f61c1244cbf7167153a35a5689ec0015df74b5a789b0dec380"
   }
  }
 },
 "nbformat": 4,
 "nbformat_minor": 2
}
